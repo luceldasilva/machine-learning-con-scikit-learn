{
  "nbformat": 4,
  "nbformat_minor": 0,
  "metadata": {
    "colab": {
      "provenance": [],
      "authorship_tag": "ABX9TyNCkV7YGU96Mqb8C6eKSSHa",
      "include_colab_link": true
    },
    "kernelspec": {
      "name": "python3",
      "display_name": "Python 3"
    },
    "language_info": {
      "name": "python"
    }
  },
  "cells": [
    {
      "cell_type": "markdown",
      "metadata": {
        "id": "view-in-github",
        "colab_type": "text"
      },
      "source": [
        "<a href=\"https://colab.research.google.com/github/luceldasilva/machine-learning-con-scikit-learn/blob/main/Machine_Learning_con_Scikit_Learn.ipynb\" target=\"_parent\"><img src=\"https://colab.research.google.com/assets/colab-badge.svg\" alt=\"Open In Colab\"/></a>"
      ]
    },
    {
      "cell_type": "markdown",
      "source": [
        "# Hoja de Trabajo del [Curso Profesional de Machine Learning con Scikit-Learn](https://platzi.com/cursos/scikitlearn/)"
      ],
      "metadata": {
        "id": "PVvs6sx6T5Gk"
      }
    },
    {
      "cell_type": "markdown",
      "source": [
        "## Importando los materiales necesarios"
      ],
      "metadata": {
        "id": "I1h7SxzjXuO1"
      }
    },
    {
      "cell_type": "code",
      "execution_count": 1,
      "metadata": {
        "id": "ngT1p9VBTtag"
      },
      "outputs": [],
      "source": [
        "# Clase 6 Instalación de librerías en Python\n",
        "import numpy as np\n",
        "import pandas as pd\n",
        "import matplotlib.pyplot as plt"
      ]
    },
    {
      "cell_type": "code",
      "source": [
        "# import scipy \n",
        "# import joblib \n",
        "# import scikit-learn"
      ],
      "metadata": {
        "id": "JCkKR5fYXDzT"
      },
      "execution_count": 2,
      "outputs": []
    },
    {
      "cell_type": "code",
      "source": [
        "url_heart = 'https://static.platzi.com/media/public/uploads/heart_bde64b4c-2d72-4cd3-a964-62ee94855f5b.csv'\n",
        "url_candy = 'https://static.platzi.com/media/public/uploads/candy_a74a49fd-6364-4c16-9381-406cdb66f338.csv'\n",
        "url_happy = 'https://static.platzi.com/media/public/uploads/felicidad_b0b50c6d-41dd-4ea8-a4f0-92a8068d4d3e.csv'"
      ],
      "metadata": {
        "id": "pWeTcCxHXCwu"
      },
      "execution_count": 4,
      "outputs": []
    },
    {
      "cell_type": "code",
      "source": [
        "df_heart = pd.read_csv(url_heart)\n",
        "df_candy = pd.read_csv(url_candy)\n",
        "df_happy = pd.read_csv(url_happy)"
      ],
      "metadata": {
        "id": "vFiDAEdkYSFI"
      },
      "execution_count": 6,
      "outputs": []
    }
  ]
}