{
  "nbformat": 4,
  "nbformat_minor": 0,
  "metadata": {
    "colab": {
      "provenance": [],
      "authorship_tag": "ABX9TyNxbdoD9H24IYGwf82L6qpO",
      "include_colab_link": true
    },
    "kernelspec": {
      "name": "python3",
      "display_name": "Python 3"
    },
    "language_info": {
      "name": "python"
    }
  },
  "cells": [
    {
      "cell_type": "markdown",
      "metadata": {
        "id": "view-in-github",
        "colab_type": "text"
      },
      "source": [
        "<a href=\"https://colab.research.google.com/github/luceldasilva/machine-learning-con-scikit-learn/blob/main/Machine_Learning_con_Scikit_Learn.ipynb\" target=\"_parent\"><img src=\"https://colab.research.google.com/assets/colab-badge.svg\" alt=\"Open In Colab\"/></a>"
      ]
    },
    {
      "cell_type": "markdown",
      "source": [
        "# Hoja de Trabajo del [Curso Profesional de Machine Learning con Scikit-Learn](https://platzi.com/cursos/scikitlearn/)"
      ],
      "metadata": {
        "id": "PVvs6sx6T5Gk"
      }
    },
    {
      "cell_type": "markdown",
      "source": [
        "## Importando los materiales necesarios"
      ],
      "metadata": {
        "id": "I1h7SxzjXuO1"
      }
    },
    {
      "cell_type": "code",
      "execution_count": 1,
      "metadata": {
        "id": "ngT1p9VBTtag"
      },
      "outputs": [],
      "source": [
        "# Clase 6 Instalación de librerías en Python\n",
        "import numpy as np\n",
        "import pandas as pd\n",
        "import matplotlib.pyplot as plt\n",
        "import sklearn"
      ]
    },
    {
      "cell_type": "code",
      "source": [
        "# import scipy \n",
        "# import joblib \n",
        "# import scikit-learn"
      ],
      "metadata": {
        "id": "JCkKR5fYXDzT"
      },
      "execution_count": 2,
      "outputs": []
    },
    {
      "cell_type": "code",
      "source": [
        "url_heart = 'https://static.platzi.com/media/public/uploads/heart_bde64b4c-2d72-4cd3-a964-62ee94855f5b.csv'\n",
        "url_candy = 'https://static.platzi.com/media/public/uploads/candy_a74a49fd-6364-4c16-9381-406cdb66f338.csv'\n",
        "url_happy = 'https://static.platzi.com/media/public/uploads/felicidad_b0b50c6d-41dd-4ea8-a4f0-92a8068d4d3e.csv'"
      ],
      "metadata": {
        "id": "pWeTcCxHXCwu"
      },
      "execution_count": 3,
      "outputs": []
    },
    {
      "cell_type": "code",
      "source": [
        "df_heart = pd.read_csv(url_heart)\n",
        "df_candy = pd.read_csv(url_candy)\n",
        "df_happy = pd.read_csv(url_happy)"
      ],
      "metadata": {
        "id": "vFiDAEdkYSFI"
      },
      "execution_count": 4,
      "outputs": []
    },
    {
      "cell_type": "markdown",
      "source": [
        "## Optimización de features\n",
        "---"
      ],
      "metadata": {
        "id": "UI3KUHIXNE02"
      }
    },
    {
      "cell_type": "markdown",
      "source": [
        "### PCA\n",
        "#### Clases para repasar conceptos\n",
        "*   [Intro de PCA en scikit-learn](https://platzi.com/clases/1796-scikitlearn/25647-introduccion-al-pca/)\n",
        "*   [PCA en Álgebra Lineal](https://platzi.com/clases/1728-algebra-ml/23907-que-es-pca/)\n",
        "\n"
      ],
      "metadata": {
        "id": "xdHGQMPj76K5"
      }
    },
    {
      "cell_type": "code",
      "source": [
        "from sklearn.decomposition import PCA\n",
        "from sklearn.decomposition import IncrementalPCA\n",
        "from sklearn.preprocessing import StandardScaler\n",
        "from sklearn.model_selection import train_test_split\n",
        "# es regresión logística pero sirve para clasificación Kappa\n",
        "from sklearn.linear_model import LogisticRegression"
      ],
      "metadata": {
        "id": "kFEU29Z98Vj6"
      },
      "execution_count": 5,
      "outputs": []
    },
    {
      "cell_type": "code",
      "source": [
        "df_heart.head()"
      ],
      "metadata": {
        "colab": {
          "base_uri": "https://localhost:8080/",
          "height": 270
        },
        "id": "J1xfED5h_o3q",
        "outputId": "368547d3-a938-4bf3-a274-0eb489ae4ad6"
      },
      "execution_count": 6,
      "outputs": [
        {
          "output_type": "execute_result",
          "data": {
            "text/plain": [
              "   age  sex  cp  trestbps  chol  fbs  restecg  thalach  exang  oldpeak  slope  \\\n",
              "0   52    1   0       125   212    0        1      168      0      1.0      2   \n",
              "1   53    1   0       140   203    1        0      155      1      3.1      0   \n",
              "2   70    1   0       145   174    0        1      125      1      2.6      0   \n",
              "3   61    1   0       148   203    0        1      161      0      0.0      2   \n",
              "4   62    0   0       138   294    1        1      106      0      1.9      1   \n",
              "\n",
              "   ca  thal  target  \n",
              "0   2     3       0  \n",
              "1   0     3       0  \n",
              "2   0     3       0  \n",
              "3   1     3       0  \n",
              "4   3     2       0  "
            ],
            "text/html": [
              "\n",
              "  <div id=\"df-bc8b391f-92b6-4f06-b0e3-4fa48b05d566\">\n",
              "    <div class=\"colab-df-container\">\n",
              "      <div>\n",
              "<style scoped>\n",
              "    .dataframe tbody tr th:only-of-type {\n",
              "        vertical-align: middle;\n",
              "    }\n",
              "\n",
              "    .dataframe tbody tr th {\n",
              "        vertical-align: top;\n",
              "    }\n",
              "\n",
              "    .dataframe thead th {\n",
              "        text-align: right;\n",
              "    }\n",
              "</style>\n",
              "<table border=\"1\" class=\"dataframe\">\n",
              "  <thead>\n",
              "    <tr style=\"text-align: right;\">\n",
              "      <th></th>\n",
              "      <th>age</th>\n",
              "      <th>sex</th>\n",
              "      <th>cp</th>\n",
              "      <th>trestbps</th>\n",
              "      <th>chol</th>\n",
              "      <th>fbs</th>\n",
              "      <th>restecg</th>\n",
              "      <th>thalach</th>\n",
              "      <th>exang</th>\n",
              "      <th>oldpeak</th>\n",
              "      <th>slope</th>\n",
              "      <th>ca</th>\n",
              "      <th>thal</th>\n",
              "      <th>target</th>\n",
              "    </tr>\n",
              "  </thead>\n",
              "  <tbody>\n",
              "    <tr>\n",
              "      <th>0</th>\n",
              "      <td>52</td>\n",
              "      <td>1</td>\n",
              "      <td>0</td>\n",
              "      <td>125</td>\n",
              "      <td>212</td>\n",
              "      <td>0</td>\n",
              "      <td>1</td>\n",
              "      <td>168</td>\n",
              "      <td>0</td>\n",
              "      <td>1.0</td>\n",
              "      <td>2</td>\n",
              "      <td>2</td>\n",
              "      <td>3</td>\n",
              "      <td>0</td>\n",
              "    </tr>\n",
              "    <tr>\n",
              "      <th>1</th>\n",
              "      <td>53</td>\n",
              "      <td>1</td>\n",
              "      <td>0</td>\n",
              "      <td>140</td>\n",
              "      <td>203</td>\n",
              "      <td>1</td>\n",
              "      <td>0</td>\n",
              "      <td>155</td>\n",
              "      <td>1</td>\n",
              "      <td>3.1</td>\n",
              "      <td>0</td>\n",
              "      <td>0</td>\n",
              "      <td>3</td>\n",
              "      <td>0</td>\n",
              "    </tr>\n",
              "    <tr>\n",
              "      <th>2</th>\n",
              "      <td>70</td>\n",
              "      <td>1</td>\n",
              "      <td>0</td>\n",
              "      <td>145</td>\n",
              "      <td>174</td>\n",
              "      <td>0</td>\n",
              "      <td>1</td>\n",
              "      <td>125</td>\n",
              "      <td>1</td>\n",
              "      <td>2.6</td>\n",
              "      <td>0</td>\n",
              "      <td>0</td>\n",
              "      <td>3</td>\n",
              "      <td>0</td>\n",
              "    </tr>\n",
              "    <tr>\n",
              "      <th>3</th>\n",
              "      <td>61</td>\n",
              "      <td>1</td>\n",
              "      <td>0</td>\n",
              "      <td>148</td>\n",
              "      <td>203</td>\n",
              "      <td>0</td>\n",
              "      <td>1</td>\n",
              "      <td>161</td>\n",
              "      <td>0</td>\n",
              "      <td>0.0</td>\n",
              "      <td>2</td>\n",
              "      <td>1</td>\n",
              "      <td>3</td>\n",
              "      <td>0</td>\n",
              "    </tr>\n",
              "    <tr>\n",
              "      <th>4</th>\n",
              "      <td>62</td>\n",
              "      <td>0</td>\n",
              "      <td>0</td>\n",
              "      <td>138</td>\n",
              "      <td>294</td>\n",
              "      <td>1</td>\n",
              "      <td>1</td>\n",
              "      <td>106</td>\n",
              "      <td>0</td>\n",
              "      <td>1.9</td>\n",
              "      <td>1</td>\n",
              "      <td>3</td>\n",
              "      <td>2</td>\n",
              "      <td>0</td>\n",
              "    </tr>\n",
              "  </tbody>\n",
              "</table>\n",
              "</div>\n",
              "      <button class=\"colab-df-convert\" onclick=\"convertToInteractive('df-bc8b391f-92b6-4f06-b0e3-4fa48b05d566')\"\n",
              "              title=\"Convert this dataframe to an interactive table.\"\n",
              "              style=\"display:none;\">\n",
              "        \n",
              "  <svg xmlns=\"http://www.w3.org/2000/svg\" height=\"24px\"viewBox=\"0 0 24 24\"\n",
              "       width=\"24px\">\n",
              "    <path d=\"M0 0h24v24H0V0z\" fill=\"none\"/>\n",
              "    <path d=\"M18.56 5.44l.94 2.06.94-2.06 2.06-.94-2.06-.94-.94-2.06-.94 2.06-2.06.94zm-11 1L8.5 8.5l.94-2.06 2.06-.94-2.06-.94L8.5 2.5l-.94 2.06-2.06.94zm10 10l.94 2.06.94-2.06 2.06-.94-2.06-.94-.94-2.06-.94 2.06-2.06.94z\"/><path d=\"M17.41 7.96l-1.37-1.37c-.4-.4-.92-.59-1.43-.59-.52 0-1.04.2-1.43.59L10.3 9.45l-7.72 7.72c-.78.78-.78 2.05 0 2.83L4 21.41c.39.39.9.59 1.41.59.51 0 1.02-.2 1.41-.59l7.78-7.78 2.81-2.81c.8-.78.8-2.07 0-2.86zM5.41 20L4 18.59l7.72-7.72 1.47 1.35L5.41 20z\"/>\n",
              "  </svg>\n",
              "      </button>\n",
              "      \n",
              "  <style>\n",
              "    .colab-df-container {\n",
              "      display:flex;\n",
              "      flex-wrap:wrap;\n",
              "      gap: 12px;\n",
              "    }\n",
              "\n",
              "    .colab-df-convert {\n",
              "      background-color: #E8F0FE;\n",
              "      border: none;\n",
              "      border-radius: 50%;\n",
              "      cursor: pointer;\n",
              "      display: none;\n",
              "      fill: #1967D2;\n",
              "      height: 32px;\n",
              "      padding: 0 0 0 0;\n",
              "      width: 32px;\n",
              "    }\n",
              "\n",
              "    .colab-df-convert:hover {\n",
              "      background-color: #E2EBFA;\n",
              "      box-shadow: 0px 1px 2px rgba(60, 64, 67, 0.3), 0px 1px 3px 1px rgba(60, 64, 67, 0.15);\n",
              "      fill: #174EA6;\n",
              "    }\n",
              "\n",
              "    [theme=dark] .colab-df-convert {\n",
              "      background-color: #3B4455;\n",
              "      fill: #D2E3FC;\n",
              "    }\n",
              "\n",
              "    [theme=dark] .colab-df-convert:hover {\n",
              "      background-color: #434B5C;\n",
              "      box-shadow: 0px 1px 3px 1px rgba(0, 0, 0, 0.15);\n",
              "      filter: drop-shadow(0px 1px 2px rgba(0, 0, 0, 0.3));\n",
              "      fill: #FFFFFF;\n",
              "    }\n",
              "  </style>\n",
              "\n",
              "      <script>\n",
              "        const buttonEl =\n",
              "          document.querySelector('#df-bc8b391f-92b6-4f06-b0e3-4fa48b05d566 button.colab-df-convert');\n",
              "        buttonEl.style.display =\n",
              "          google.colab.kernel.accessAllowed ? 'block' : 'none';\n",
              "\n",
              "        async function convertToInteractive(key) {\n",
              "          const element = document.querySelector('#df-bc8b391f-92b6-4f06-b0e3-4fa48b05d566');\n",
              "          const dataTable =\n",
              "            await google.colab.kernel.invokeFunction('convertToInteractive',\n",
              "                                                     [key], {});\n",
              "          if (!dataTable) return;\n",
              "\n",
              "          const docLinkHtml = 'Like what you see? Visit the ' +\n",
              "            '<a target=\"_blank\" href=https://colab.research.google.com/notebooks/data_table.ipynb>data table notebook</a>'\n",
              "            + ' to learn more about interactive tables.';\n",
              "          element.innerHTML = '';\n",
              "          dataTable['output_type'] = 'display_data';\n",
              "          await google.colab.output.renderOutput(dataTable, element);\n",
              "          const docLink = document.createElement('div');\n",
              "          docLink.innerHTML = docLinkHtml;\n",
              "          element.appendChild(docLink);\n",
              "        }\n",
              "      </script>\n",
              "    </div>\n",
              "  </div>\n",
              "  "
            ]
          },
          "metadata": {},
          "execution_count": 6
        }
      ]
    },
    {
      "cell_type": "code",
      "source": [
        "dt_features_kokkoro = df_heart.drop(['target'], axis=1)\n",
        "dt_target_kokkoro = df_heart['target']\n",
        "dt_features_kokkoro = StandardScaler().fit_transform(dt_features_kokkoro)"
      ],
      "metadata": {
        "id": "oy0kepbuBXTB"
      },
      "execution_count": 7,
      "outputs": []
    },
    {
      "cell_type": "code",
      "source": [
        "X_train, X_test, y_train, y_test = train_test_split(dt_features_kokkoro, dt_target_kokkoro, test_size=0.3, random_state=42)"
      ],
      "metadata": {
        "id": "G26SP4mJCSh-"
      },
      "execution_count": 8,
      "outputs": []
    },
    {
      "cell_type": "code",
      "source": [
        "X_train.shape"
      ],
      "metadata": {
        "colab": {
          "base_uri": "https://localhost:8080/"
        },
        "id": "NixszZCJDL4q",
        "outputId": "f83b1849-d7dc-4303-a2bd-0d24ce5dabd1"
      },
      "execution_count": 9,
      "outputs": [
        {
          "output_type": "execute_result",
          "data": {
            "text/plain": [
              "(717, 13)"
            ]
          },
          "metadata": {},
          "execution_count": 9
        }
      ]
    },
    {
      "cell_type": "code",
      "source": [
        "y_train.shape"
      ],
      "metadata": {
        "colab": {
          "base_uri": "https://localhost:8080/"
        },
        "id": "z7uYJLv_DYuu",
        "outputId": "7afbc47e-6244-4cb1-a712-e89378909ee2"
      },
      "execution_count": 10,
      "outputs": [
        {
          "output_type": "execute_result",
          "data": {
            "text/plain": [
              "(717,)"
            ]
          },
          "metadata": {},
          "execution_count": 10
        }
      ]
    },
    {
      "cell_type": "code",
      "source": [
        "X_train.shape[0]==y_train.shape[0]"
      ],
      "metadata": {
        "colab": {
          "base_uri": "https://localhost:8080/"
        },
        "id": "TVz5hg-xDlX-",
        "outputId": "3655df40-4bc6-43b3-844a-5f4ef7a6f4e0"
      },
      "execution_count": 11,
      "outputs": [
        {
          "output_type": "execute_result",
          "data": {
            "text/plain": [
              "True"
            ]
          },
          "metadata": {},
          "execution_count": 11
        }
      ]
    },
    {
      "cell_type": "markdown",
      "source": [
        "Se puede seguir ✅"
      ],
      "metadata": {
        "id": "e2mZYq1QEbL0"
      }
    },
    {
      "cell_type": "markdown",
      "source": [
        "![](https://cdn.myanimelist.net/images/characters/15/406679.jpg)"
      ],
      "metadata": {
        "id": "5LJ3VVnvFUti"
      }
    },
    {
      "cell_type": "code",
      "source": [
        "# Implementar el algoritmo\n",
        "# si no le especificamos componentes dará el mínimo por predeterminado :v\n",
        "pca_kokkoro = PCA(n_components=3)\n",
        "pca_kokkoro.fit(X_train)\n",
        "\n",
        "ipca_kokkoro = IncrementalPCA(n_components=3, batch_size=10)\n",
        "ipca_kokkoro.fit(X_train)\n",
        "\n",
        "plt.plot(range(len(pca_kokkoro.explained_variance_)), pca_kokkoro.explained_variance_ratio_)\n",
        "plt.show()"
      ],
      "metadata": {
        "colab": {
          "base_uri": "https://localhost:8080/",
          "height": 265
        },
        "id": "S6yzgzWUCRxR",
        "outputId": "51081abb-e3e8-4d63-8084-a07777cc8949"
      },
      "execution_count": 12,
      "outputs": [
        {
          "output_type": "display_data",
          "data": {
            "text/plain": [
              "<Figure size 432x288 with 1 Axes>"
            ],
            "image/png": "[encoded data removed]"
          },
          "metadata": {
            "needs_background": "light"
          }
        }
      ]
    },
    {
      "cell_type": "code",
      "source": [
        "logistic_kokkoro = LogisticRegression(solver='lbfgs')\n",
        "\n",
        "dt_train_kokkoro = pca_kokkoro.transform(X_train)\n",
        "dt_test_kokkoro = pca_kokkoro.transform(X_test)\n",
        "logistic_kokkoro.fit(dt_train_kokkoro,y_train)\n",
        "print(\"SCORE PCA: \", logistic_kokkoro.score(dt_test_kokkoro, y_test))"
      ],
      "metadata": {
        "colab": {
          "base_uri": "https://localhost:8080/"
        },
        "id": "4sgDdVNqGUG1",
        "outputId": "577847a0-e043-4a75-b7dd-a1522b31740f"
      },
      "execution_count": 13,
      "outputs": [
        {
          "output_type": "stream",
          "name": "stdout",
          "text": [
            "SCORE PCA:  0.7857142857142857\n"
          ]
        }
      ]
    },
    {
      "cell_type": "code",
      "source": [
        "dt_train_summer_kokkoro = ipca_kokkoro.transform(X_train)\n",
        "dt_test_summer_kokkoro = ipca_kokkoro.transform(X_test)\n",
        "logistic_kokkoro.fit(dt_train_summer_kokkoro,y_train)\n",
        "print(\"SCORE IPCA: \", logistic_kokkoro.score(dt_test_summer_kokkoro, y_test))"
      ],
      "metadata": {
        "colab": {
          "base_uri": "https://localhost:8080/"
        },
        "id": "uvmfSGibHt4E",
        "outputId": "96bd7f72-f7bd-4852-cb9d-4b4accef8e6e"
      },
      "execution_count": 14,
      "outputs": [
        {
          "output_type": "stream",
          "name": "stdout",
          "text": [
            "SCORE IPCA:  0.8051948051948052\n"
          ]
        }
      ]
    },
    {
      "cell_type": "markdown",
      "source": [
        "### Kernels y KPCA"
      ],
      "metadata": {
        "id": "RAd-61xyLRPs"
      }
    },
    {
      "cell_type": "code",
      "source": [
        "from sklearn.decomposition import KernelPCA"
      ],
      "metadata": {
        "id": "Yo_OJV0dKkPu"
      },
      "execution_count": 15,
      "outputs": []
    },
    {
      "cell_type": "code",
      "source": [
        "kpca_kokkoro = KernelPCA(n_components=4, kernel='poly')\n",
        "kpca_kokkoro.fit(X_train)\n",
        "\n",
        "dt_train_princess_kokkoro = kpca_kokkoro.transform(X_train)\n",
        "dt_test_princess_kokkoro = kpca_kokkoro.transform(X_test)\n",
        "\n",
        "logistic_kokkoro.fit(dt_train_princess_kokkoro,y_train)\n",
        "print(\"SCORE KPCA: \", logistic_kokkoro.score(dt_test_princess_kokkoro, y_test))"
      ],
      "metadata": {
        "colab": {
          "base_uri": "https://localhost:8080/"
        },
        "id": "vujEEIDqUr7h",
        "outputId": "8944daed-5e28-49e9-818d-1c6b2cb94333"
      },
      "execution_count": 16,
      "outputs": [
        {
          "output_type": "stream",
          "name": "stdout",
          "text": [
            "SCORE KPCA:  0.7987012987012987\n"
          ]
        }
      ]
    },
    {
      "cell_type": "markdown",
      "source": [
        "### [Regulación con Lasso, Ridge](https://platzi.com/clases/1796-scikitlearn/25651-que-es-la-regularizacion-y-como-aplicarla/) [y ElasticNet](https://platzi.com/clases/1796-scikitlearn/25654-elasticnet-una-tecnica-intermedia/)"
      ],
      "metadata": {
        "id": "vcqngW3EZb77"
      }
    },
    {
      "cell_type": "code",
      "source": [
        "from sklearn.linear_model import LinearRegression\n",
        "from sklearn.linear_model import Lasso\n",
        "from sklearn.linear_model import Ridge\n",
        "from sklearn.linear_model import ElasticNet\n",
        "from sklearn.metrics import mean_squared_error"
      ],
      "metadata": {
        "id": "2irZABwIWeJe"
      },
      "execution_count": 17,
      "outputs": []
    },
    {
      "cell_type": "markdown",
      "source": [
        "![](https://static.wikia.nocookie.net/edens-zero/images/2/22/Happy_Anime.png/revision/latest?cb=20210420211115&path-prefix=es)"
      ],
      "metadata": {
        "id": "t3xnAwmZFP9N"
      }
    },
    {
      "cell_type": "code",
      "source": [
        "df_happy.describe()"
      ],
      "metadata": {
        "colab": {
          "base_uri": "https://localhost:8080/",
          "height": 364
        },
        "id": "7CDvwy4AEie9",
        "outputId": "38194b73-76ba-4348-dd03-ae72bac2151c"
      },
      "execution_count": 18,
      "outputs": [
        {
          "output_type": "execute_result",
          "data": {
            "text/plain": [
              "             rank       score        high         low         gdp      family  \\\n",
              "count  155.000000  155.000000  155.000000  155.000000  155.000000  155.000000   \n",
              "mean    78.000000    5.354019    5.452326    5.255713    0.984718    1.188898   \n",
              "std     44.888751    1.131230    1.118542    1.145030    0.420793    0.287263   \n",
              "min      1.000000    2.693000    2.864884    2.521116    0.000000    0.000000   \n",
              "25%     39.500000    4.505500    4.608172    4.374955    0.663371    1.042635   \n",
              "50%     78.000000    5.279000    5.370032    5.193152    1.064578    1.253918   \n",
              "75%    116.500000    6.101500    6.194600    6.006527    1.318027    1.414316   \n",
              "max    155.000000    7.537000    7.622030    7.479556    1.870766    1.610574   \n",
              "\n",
              "           lifexp     freedom  generosity  corruption    dystopia  \n",
              "count  155.000000  155.000000  155.000000  155.000000  155.000000  \n",
              "mean     0.551341    0.408786    0.246883    0.123120    1.850238  \n",
              "std      0.237073    0.149997    0.134780    0.101661    0.500028  \n",
              "min      0.000000    0.000000    0.000000    0.000000    0.377914  \n",
              "25%      0.369866    0.303677    0.154106    0.057271    1.591291  \n",
              "50%      0.606042    0.437454    0.231538    0.089848    1.832910  \n",
              "75%      0.723008    0.516561    0.323762    0.153296    2.144654  \n",
              "max      0.949492    0.658249    0.838075    0.464308    3.117485  "
            ],
            "text/html": [
              "\n",
              "  <div id=\"df-176f4807-20fb-422b-a475-cf5f076d378f\">\n",
              "    <div class=\"colab-df-container\">\n",
              "      <div>\n",
              "<style scoped>\n",
              "    .dataframe tbody tr th:only-of-type {\n",
              "        vertical-align: middle;\n",
              "    }\n",
              "\n",
              "    .dataframe tbody tr th {\n",
              "        vertical-align: top;\n",
              "    }\n",
              "\n",
              "    .dataframe thead th {\n",
              "        text-align: right;\n",
              "    }\n",
              "</style>\n",
              "<table border=\"1\" class=\"dataframe\">\n",
              "  <thead>\n",
              "    <tr style=\"text-align: right;\">\n",
              "      <th></th>\n",
              "      <th>rank</th>\n",
              "      <th>score</th>\n",
              "      <th>high</th>\n",
              "      <th>low</th>\n",
              "      <th>gdp</th>\n",
              "      <th>family</th>\n",
              "      <th>lifexp</th>\n",
              "      <th>freedom</th>\n",
              "      <th>generosity</th>\n",
              "      <th>corruption</th>\n",
              "      <th>dystopia</th>\n",
              "    </tr>\n",
              "  </thead>\n",
              "  <tbody>\n",
              "    <tr>\n",
              "      <th>count</th>\n",
              "      <td>155.000000</td>\n",
              "      <td>155.000000</td>\n",
              "      <td>155.000000</td>\n",
              "      <td>155.000000</td>\n",
              "      <td>155.000000</td>\n",
              "      <td>155.000000</td>\n",
              "      <td>155.000000</td>\n",
              "      <td>155.000000</td>\n",
              "      <td>155.000000</td>\n",
              "      <td>155.000000</td>\n",
              "      <td>155.000000</td>\n",
              "    </tr>\n",
              "    <tr>\n",
              "      <th>mean</th>\n",
              "      <td>78.000000</td>\n",
              "      <td>5.354019</td>\n",
              "      <td>5.452326</td>\n",
              "      <td>5.255713</td>\n",
              "      <td>0.984718</td>\n",
              "      <td>1.188898</td>\n",
              "      <td>0.551341</td>\n",
              "      <td>0.408786</td>\n",
              "      <td>0.246883</td>\n",
              "      <td>0.123120</td>\n",
              "      <td>1.850238</td>\n",
              "    </tr>\n",
              "    <tr>\n",
              "      <th>std</th>\n",
              "      <td>44.888751</td>\n",
              "      <td>1.131230</td>\n",
              "      <td>1.118542</td>\n",
              "      <td>1.145030</td>\n",
              "      <td>0.420793</td>\n",
              "      <td>0.287263</td>\n",
              "      <td>0.237073</td>\n",
              "      <td>0.149997</td>\n",
              "      <td>0.134780</td>\n",
              "      <td>0.101661</td>\n",
              "      <td>0.500028</td>\n",
              "    </tr>\n",
              "    <tr>\n",
              "      <th>min</th>\n",
              "      <td>1.000000</td>\n",
              "      <td>2.693000</td>\n",
              "      <td>2.864884</td>\n",
              "      <td>2.521116</td>\n",
              "      <td>0.000000</td>\n",
              "      <td>0.000000</td>\n",
              "      <td>0.000000</td>\n",
              "      <td>0.000000</td>\n",
              "      <td>0.000000</td>\n",
              "      <td>0.000000</td>\n",
              "      <td>0.377914</td>\n",
              "    </tr>\n",
              "    <tr>\n",
              "      <th>25%</th>\n",
              "      <td>39.500000</td>\n",
              "      <td>4.505500</td>\n",
              "      <td>4.608172</td>\n",
              "      <td>4.374955</td>\n",
              "      <td>0.663371</td>\n",
              "      <td>1.042635</td>\n",
              "      <td>0.369866</td>\n",
              "      <td>0.303677</td>\n",
              "      <td>0.154106</td>\n",
              "      <td>0.057271</td>\n",
              "      <td>1.591291</td>\n",
              "    </tr>\n",
              "    <tr>\n",
              "      <th>50%</th>\n",
              "      <td>78.000000</td>\n",
              "      <td>5.279000</td>\n",
              "      <td>5.370032</td>\n",
              "      <td>5.193152</td>\n",
              "      <td>1.064578</td>\n",
              "      <td>1.253918</td>\n",
              "      <td>0.606042</td>\n",
              "      <td>0.437454</td>\n",
              "      <td>0.231538</td>\n",
              "      <td>0.089848</td>\n",
              "      <td>1.832910</td>\n",
              "    </tr>\n",
              "    <tr>\n",
              "      <th>75%</th>\n",
              "      <td>116.500000</td>\n",
              "      <td>6.101500</td>\n",
              "      <td>6.194600</td>\n",
              "      <td>6.006527</td>\n",
              "      <td>1.318027</td>\n",
              "      <td>1.414316</td>\n",
              "      <td>0.723008</td>\n",
              "      <td>0.516561</td>\n",
              "      <td>0.323762</td>\n",
              "      <td>0.153296</td>\n",
              "      <td>2.144654</td>\n",
              "    </tr>\n",
              "    <tr>\n",
              "      <th>max</th>\n",
              "      <td>155.000000</td>\n",
              "      <td>7.537000</td>\n",
              "      <td>7.622030</td>\n",
              "      <td>7.479556</td>\n",
              "      <td>1.870766</td>\n",
              "      <td>1.610574</td>\n",
              "      <td>0.949492</td>\n",
              "      <td>0.658249</td>\n",
              "      <td>0.838075</td>\n",
              "      <td>0.464308</td>\n",
              "      <td>3.117485</td>\n",
              "    </tr>\n",
              "  </tbody>\n",
              "</table>\n",
              "</div>\n",
              "      <button class=\"colab-df-convert\" onclick=\"convertToInteractive('df-176f4807-20fb-422b-a475-cf5f076d378f')\"\n",
              "              title=\"Convert this dataframe to an interactive table.\"\n",
              "              style=\"display:none;\">\n",
              "        \n",
              "  <svg xmlns=\"http://www.w3.org/2000/svg\" height=\"24px\"viewBox=\"0 0 24 24\"\n",
              "       width=\"24px\">\n",
              "    <path d=\"M0 0h24v24H0V0z\" fill=\"none\"/>\n",
              "    <path d=\"M18.56 5.44l.94 2.06.94-2.06 2.06-.94-2.06-.94-.94-2.06-.94 2.06-2.06.94zm-11 1L8.5 8.5l.94-2.06 2.06-.94-2.06-.94L8.5 2.5l-.94 2.06-2.06.94zm10 10l.94 2.06.94-2.06 2.06-.94-2.06-.94-.94-2.06-.94 2.06-2.06.94z\"/><path d=\"M17.41 7.96l-1.37-1.37c-.4-.4-.92-.59-1.43-.59-.52 0-1.04.2-1.43.59L10.3 9.45l-7.72 7.72c-.78.78-.78 2.05 0 2.83L4 21.41c.39.39.9.59 1.41.59.51 0 1.02-.2 1.41-.59l7.78-7.78 2.81-2.81c.8-.78.8-2.07 0-2.86zM5.41 20L4 18.59l7.72-7.72 1.47 1.35L5.41 20z\"/>\n",
              "  </svg>\n",
              "      </button>\n",
              "      \n",
              "  <style>\n",
              "    .colab-df-container {\n",
              "      display:flex;\n",
              "      flex-wrap:wrap;\n",
              "      gap: 12px;\n",
              "    }\n",
              "\n",
              "    .colab-df-convert {\n",
              "      background-color: #E8F0FE;\n",
              "      border: none;\n",
              "      border-radius: 50%;\n",
              "      cursor: pointer;\n",
              "      display: none;\n",
              "      fill: #1967D2;\n",
              "      height: 32px;\n",
              "      padding: 0 0 0 0;\n",
              "      width: 32px;\n",
              "    }\n",
              "\n",
              "    .colab-df-convert:hover {\n",
              "      background-color: #E2EBFA;\n",
              "      box-shadow: 0px 1px 2px rgba(60, 64, 67, 0.3), 0px 1px 3px 1px rgba(60, 64, 67, 0.15);\n",
              "      fill: #174EA6;\n",
              "    }\n",
              "\n",
              "    [theme=dark] .colab-df-convert {\n",
              "      background-color: #3B4455;\n",
              "      fill: #D2E3FC;\n",
              "    }\n",
              "\n",
              "    [theme=dark] .colab-df-convert:hover {\n",
              "      background-color: #434B5C;\n",
              "      box-shadow: 0px 1px 3px 1px rgba(0, 0, 0, 0.15);\n",
              "      filter: drop-shadow(0px 1px 2px rgba(0, 0, 0, 0.3));\n",
              "      fill: #FFFFFF;\n",
              "    }\n",
              "  </style>\n",
              "\n",
              "      <script>\n",
              "        const buttonEl =\n",
              "          document.querySelector('#df-176f4807-20fb-422b-a475-cf5f076d378f button.colab-df-convert');\n",
              "        buttonEl.style.display =\n",
              "          google.colab.kernel.accessAllowed ? 'block' : 'none';\n",
              "\n",
              "        async function convertToInteractive(key) {\n",
              "          const element = document.querySelector('#df-176f4807-20fb-422b-a475-cf5f076d378f');\n",
              "          const dataTable =\n",
              "            await google.colab.kernel.invokeFunction('convertToInteractive',\n",
              "                                                     [key], {});\n",
              "          if (!dataTable) return;\n",
              "\n",
              "          const docLinkHtml = 'Like what you see? Visit the ' +\n",
              "            '<a target=\"_blank\" href=https://colab.research.google.com/notebooks/data_table.ipynb>data table notebook</a>'\n",
              "            + ' to learn more about interactive tables.';\n",
              "          element.innerHTML = '';\n",
              "          dataTable['output_type'] = 'display_data';\n",
              "          await google.colab.output.renderOutput(dataTable, element);\n",
              "          const docLink = document.createElement('div');\n",
              "          docLink.innerHTML = docLinkHtml;\n",
              "          element.appendChild(docLink);\n",
              "        }\n",
              "      </script>\n",
              "    </div>\n",
              "  </div>\n",
              "  "
            ]
          },
          "metadata": {},
          "execution_count": 18
        }
      ]
    },
    {
      "cell_type": "code",
      "source": [
        "  X_happy = df_happy[['gdp', 'family', 'lifexp', 'freedom' , 'corruption' , 'generosity', 'dystopia']]\n",
        "  y_happy = df_happy[['score']]"
      ],
      "metadata": {
        "id": "WgFSIFV9E49I"
      },
      "execution_count": 19,
      "outputs": []
    },
    {
      "cell_type": "code",
      "source": [
        "X_happy.shape[0]==y_happy.shape[0]"
      ],
      "metadata": {
        "colab": {
          "base_uri": "https://localhost:8080/"
        },
        "id": "1HASwetvFxvh",
        "outputId": "602c2781-b078-4774-9c2c-fce0d6750513"
      },
      "execution_count": 20,
      "outputs": [
        {
          "output_type": "execute_result",
          "data": {
            "text/plain": [
              "True"
            ]
          },
          "metadata": {},
          "execution_count": 20
        }
      ]
    },
    {
      "cell_type": "code",
      "source": [
        "X_train_h, X_test_h, y_train_h, y_test_h = train_test_split(X_happy, y_happy, test_size=0.25)"
      ],
      "metadata": {
        "id": "O1XrODTBGWJP"
      },
      "execution_count": 21,
      "outputs": []
    },
    {
      "cell_type": "code",
      "source": [
        "modelLinear_h = LinearRegression().fit(X_train_h, y_train_h)\n",
        "y_predict_linear = modelLinear_h.predict(X_test_h)\n",
        "modelLasso = Lasso(alpha=0.02).fit(X_train_h, y_train_h) #alpha predeterminado es 1\n",
        "y_predict_lasso = modelLasso.predict(X_test_h)\n",
        "modelRidge = Ridge(alpha=1).fit(X_train_h, y_train_h)\n",
        "y_predict_Ridge =  modelRidge.predict(X_test_h)\n",
        "modelRegr = ElasticNet(random_state=0).fit(X_train_h, y_train_h)\n",
        "y_predict_Regr = modelRegr.predict(X_test_h)"
      ],
      "metadata": {
        "id": "jnqa3m3hGoun"
      },
      "execution_count": 22,
      "outputs": []
    },
    {
      "cell_type": "code",
      "source": [
        "linear_loss = mean_squared_error(y_test_h, y_predict_linear)\n",
        "print(\"Linear Loss:\", linear_loss)\n",
        "\n",
        "lasso_loss = mean_squared_error(y_test_h, y_predict_lasso)\n",
        "print(\"Lasso Loss: \", lasso_loss)\n",
        "\n",
        "ridge_loss = mean_squared_error(y_test_h, y_predict_Ridge)\n",
        "print(\"Ridge Loss: \", ridge_loss)\n",
        "\n",
        "regr_loss = mean_squared_error(y_test_h, y_predict_Regr)\n",
        "print(\"ElasticNet Loss: \", regr_loss)"
      ],
      "metadata": {
        "colab": {
          "base_uri": "https://localhost:8080/"
        },
        "id": "6tYqNYKXIBwZ",
        "outputId": "2643b115-b9e3-4923-f4aa-06edc58bd2c1"
      },
      "execution_count": 23,
      "outputs": [
        {
          "output_type": "stream",
          "name": "stdout",
          "text": [
            "Linear Loss: 7.515149499000008e-08\n",
            "Lasso Loss:  0.04699277126792984\n",
            "Ridge Loss:  0.005672129857556434\n",
            "ElasticNet Loss:  1.4315566999593028\n"
          ]
        }
      ]
    },
    {
      "cell_type": "code",
      "source": [
        "print(\"=\"*32)\n",
        "print(\"Coef LASSO\")\n",
        "print(modelLasso.coef_)\n",
        "print(\"=\"*32)\n",
        "print(\"Coef RIDGE\")\n",
        "print(modelRidge.coef_)\n",
        "print(\"=\"*32)\n",
        "print(\"Coef ElasticNet\")\n",
        "print(modelRegr.coef_)"
      ],
      "metadata": {
        "colab": {
          "base_uri": "https://localhost:8080/"
        },
        "id": "WrF46fwiJz8z",
        "outputId": "3ac0e767-7979-4d37-b55e-d994c6bdbd23"
      },
      "execution_count": 24,
      "outputs": [
        {
          "output_type": "stream",
          "name": "stdout",
          "text": [
            "================================\n",
            "Coef LASSO\n",
            "[1.32081569 0.90385619 0.41357983 0.70219182 0.         0.28292156\n",
            " 0.9327326 ]\n",
            "================================\n",
            "Coef RIDGE\n",
            "[[1.07688049 0.96259918 0.84827066 0.87630792 0.64301318 0.76772427\n",
            "  0.97242213]]\n",
            "================================\n",
            "Coef ElasticNet\n",
            "[0. 0. 0. 0. 0. 0. 0.]\n"
          ]
        }
      ]
    },
    {
      "cell_type": "markdown",
      "source": [
        "## Regresiones robustas\n",
        "---"
      ],
      "metadata": {
        "id": "Px15AZyCM6vm"
      }
    },
    {
      "cell_type": "markdown",
      "source": [
        "### Valores atípicos\n",
        "Usando el dataset de happy corrupto 🤬"
      ],
      "metadata": {
        "id": "NS_6LnYzOVm4"
      }
    },
    {
      "cell_type": "code",
      "source": [
        "from sklearn.linear_model import (\n",
        "    RANSACRegressor, HuberRegressor\n",
        ")\n",
        "from sklearn.svm import SVR"
      ],
      "metadata": {
        "id": "vQJMD2EIQ-4w"
      },
      "execution_count": 25,
      "outputs": []
    },
    {
      "cell_type": "code",
      "source": [
        "url_corrupt = 'https://static.platzi.com/media/tmp/class-files/git/profesional_scikitlearn_platzi/profesional_scikitlearn_platzi-preparacion_regresion_robusta/data/felicidad_corrupt.csv'\n",
        "df_corrupt = pd.read_csv(url_corrupt)\n",
        "df_corrupt.tail()"
      ],
      "metadata": {
        "colab": {
          "base_uri": "https://localhost:8080/",
          "height": 270
        },
        "id": "Is-P-ZFJQnFh",
        "outputId": "f52ef343-2d2c-4ea8-b98c-d6e5e9d7415c"
      },
      "execution_count": 26,
      "outputs": [
        {
          "output_type": "execute_result",
          "data": {
            "text/plain": [
              "    country  rank  score  high  low  gdp  family  lifexp  freedom  generosity  \\\n",
              "162       H   163    0.0   0.0  0.0  0.0     0.0     0.0      0.0         0.0   \n",
              "163       I   164    0.0   0.0  0.0  0.0     0.0     0.0      0.0         0.0   \n",
              "164       J   165    0.0   0.0  0.0  0.0     0.0     0.0      0.0         0.0   \n",
              "165       K   166    0.0   0.0  0.0  0.0     0.0     0.0      0.0         0.0   \n",
              "166       L   167    0.0   0.0  0.0  0.0     0.0     0.0      0.0         0.0   \n",
              "\n",
              "     corruption  dystopia  \n",
              "162         0.0       0.0  \n",
              "163         0.0       0.0  \n",
              "164         0.0       0.0  \n",
              "165         0.0       0.0  \n",
              "166         0.0       0.0  "
            ],
            "text/html": [
              "\n",
              "  <div id=\"df-994b58c0-c881-4083-9a3e-7a3c001415ed\">\n",
              "    <div class=\"colab-df-container\">\n",
              "      <div>\n",
              "<style scoped>\n",
              "    .dataframe tbody tr th:only-of-type {\n",
              "        vertical-align: middle;\n",
              "    }\n",
              "\n",
              "    .dataframe tbody tr th {\n",
              "        vertical-align: top;\n",
              "    }\n",
              "\n",
              "    .dataframe thead th {\n",
              "        text-align: right;\n",
              "    }\n",
              "</style>\n",
              "<table border=\"1\" class=\"dataframe\">\n",
              "  <thead>\n",
              "    <tr style=\"text-align: right;\">\n",
              "      <th></th>\n",
              "      <th>country</th>\n",
              "      <th>rank</th>\n",
              "      <th>score</th>\n",
              "      <th>high</th>\n",
              "      <th>low</th>\n",
              "      <th>gdp</th>\n",
              "      <th>family</th>\n",
              "      <th>lifexp</th>\n",
              "      <th>freedom</th>\n",
              "      <th>generosity</th>\n",
              "      <th>corruption</th>\n",
              "      <th>dystopia</th>\n",
              "    </tr>\n",
              "  </thead>\n",
              "  <tbody>\n",
              "    <tr>\n",
              "      <th>162</th>\n",
              "      <td>H</td>\n",
              "      <td>163</td>\n",
              "      <td>0.0</td>\n",
              "      <td>0.0</td>\n",
              "      <td>0.0</td>\n",
              "      <td>0.0</td>\n",
              "      <td>0.0</td>\n",
              "      <td>0.0</td>\n",
              "      <td>0.0</td>\n",
              "      <td>0.0</td>\n",
              "      <td>0.0</td>\n",
              "      <td>0.0</td>\n",
              "    </tr>\n",
              "    <tr>\n",
              "      <th>163</th>\n",
              "      <td>I</td>\n",
              "      <td>164</td>\n",
              "      <td>0.0</td>\n",
              "      <td>0.0</td>\n",
              "      <td>0.0</td>\n",
              "      <td>0.0</td>\n",
              "      <td>0.0</td>\n",
              "      <td>0.0</td>\n",
              "      <td>0.0</td>\n",
              "      <td>0.0</td>\n",
              "      <td>0.0</td>\n",
              "      <td>0.0</td>\n",
              "    </tr>\n",
              "    <tr>\n",
              "      <th>164</th>\n",
              "      <td>J</td>\n",
              "      <td>165</td>\n",
              "      <td>0.0</td>\n",
              "      <td>0.0</td>\n",
              "      <td>0.0</td>\n",
              "      <td>0.0</td>\n",
              "      <td>0.0</td>\n",
              "      <td>0.0</td>\n",
              "      <td>0.0</td>\n",
              "      <td>0.0</td>\n",
              "      <td>0.0</td>\n",
              "      <td>0.0</td>\n",
              "    </tr>\n",
              "    <tr>\n",
              "      <th>165</th>\n",
              "      <td>K</td>\n",
              "      <td>166</td>\n",
              "      <td>0.0</td>\n",
              "      <td>0.0</td>\n",
              "      <td>0.0</td>\n",
              "      <td>0.0</td>\n",
              "      <td>0.0</td>\n",
              "      <td>0.0</td>\n",
              "      <td>0.0</td>\n",
              "      <td>0.0</td>\n",
              "      <td>0.0</td>\n",
              "      <td>0.0</td>\n",
              "    </tr>\n",
              "    <tr>\n",
              "      <th>166</th>\n",
              "      <td>L</td>\n",
              "      <td>167</td>\n",
              "      <td>0.0</td>\n",
              "      <td>0.0</td>\n",
              "      <td>0.0</td>\n",
              "      <td>0.0</td>\n",
              "      <td>0.0</td>\n",
              "      <td>0.0</td>\n",
              "      <td>0.0</td>\n",
              "      <td>0.0</td>\n",
              "      <td>0.0</td>\n",
              "      <td>0.0</td>\n",
              "    </tr>\n",
              "  </tbody>\n",
              "</table>\n",
              "</div>\n",
              "      <button class=\"colab-df-convert\" onclick=\"convertToInteractive('df-994b58c0-c881-4083-9a3e-7a3c001415ed')\"\n",
              "              title=\"Convert this dataframe to an interactive table.\"\n",
              "              style=\"display:none;\">\n",
              "        \n",
              "  <svg xmlns=\"http://www.w3.org/2000/svg\" height=\"24px\"viewBox=\"0 0 24 24\"\n",
              "       width=\"24px\">\n",
              "    <path d=\"M0 0h24v24H0V0z\" fill=\"none\"/>\n",
              "    <path d=\"M18.56 5.44l.94 2.06.94-2.06 2.06-.94-2.06-.94-.94-2.06-.94 2.06-2.06.94zm-11 1L8.5 8.5l.94-2.06 2.06-.94-2.06-.94L8.5 2.5l-.94 2.06-2.06.94zm10 10l.94 2.06.94-2.06 2.06-.94-2.06-.94-.94-2.06-.94 2.06-2.06.94z\"/><path d=\"M17.41 7.96l-1.37-1.37c-.4-.4-.92-.59-1.43-.59-.52 0-1.04.2-1.43.59L10.3 9.45l-7.72 7.72c-.78.78-.78 2.05 0 2.83L4 21.41c.39.39.9.59 1.41.59.51 0 1.02-.2 1.41-.59l7.78-7.78 2.81-2.81c.8-.78.8-2.07 0-2.86zM5.41 20L4 18.59l7.72-7.72 1.47 1.35L5.41 20z\"/>\n",
              "  </svg>\n",
              "      </button>\n",
              "      \n",
              "  <style>\n",
              "    .colab-df-container {\n",
              "      display:flex;\n",
              "      flex-wrap:wrap;\n",
              "      gap: 12px;\n",
              "    }\n",
              "\n",
              "    .colab-df-convert {\n",
              "      background-color: #E8F0FE;\n",
              "      border: none;\n",
              "      border-radius: 50%;\n",
              "      cursor: pointer;\n",
              "      display: none;\n",
              "      fill: #1967D2;\n",
              "      height: 32px;\n",
              "      padding: 0 0 0 0;\n",
              "      width: 32px;\n",
              "    }\n",
              "\n",
              "    .colab-df-convert:hover {\n",
              "      background-color: #E2EBFA;\n",
              "      box-shadow: 0px 1px 2px rgba(60, 64, 67, 0.3), 0px 1px 3px 1px rgba(60, 64, 67, 0.15);\n",
              "      fill: #174EA6;\n",
              "    }\n",
              "\n",
              "    [theme=dark] .colab-df-convert {\n",
              "      background-color: #3B4455;\n",
              "      fill: #D2E3FC;\n",
              "    }\n",
              "\n",
              "    [theme=dark] .colab-df-convert:hover {\n",
              "      background-color: #434B5C;\n",
              "      box-shadow: 0px 1px 3px 1px rgba(0, 0, 0, 0.15);\n",
              "      filter: drop-shadow(0px 1px 2px rgba(0, 0, 0, 0.3));\n",
              "      fill: #FFFFFF;\n",
              "    }\n",
              "  </style>\n",
              "\n",
              "      <script>\n",
              "        const buttonEl =\n",
              "          document.querySelector('#df-994b58c0-c881-4083-9a3e-7a3c001415ed button.colab-df-convert');\n",
              "        buttonEl.style.display =\n",
              "          google.colab.kernel.accessAllowed ? 'block' : 'none';\n",
              "\n",
              "        async function convertToInteractive(key) {\n",
              "          const element = document.querySelector('#df-994b58c0-c881-4083-9a3e-7a3c001415ed');\n",
              "          const dataTable =\n",
              "            await google.colab.kernel.invokeFunction('convertToInteractive',\n",
              "                                                     [key], {});\n",
              "          if (!dataTable) return;\n",
              "\n",
              "          const docLinkHtml = 'Like what you see? Visit the ' +\n",
              "            '<a target=\"_blank\" href=https://colab.research.google.com/notebooks/data_table.ipynb>data table notebook</a>'\n",
              "            + ' to learn more about interactive tables.';\n",
              "          element.innerHTML = '';\n",
              "          dataTable['output_type'] = 'display_data';\n",
              "          await google.colab.output.renderOutput(dataTable, element);\n",
              "          const docLink = document.createElement('div');\n",
              "          docLink.innerHTML = docLinkHtml;\n",
              "          element.appendChild(docLink);\n",
              "        }\n",
              "      </script>\n",
              "    </div>\n",
              "  </div>\n",
              "  "
            ]
          },
          "metadata": {},
          "execution_count": 26
        }
      ]
    },
    {
      "cell_type": "code",
      "source": [
        "X_corrupt = df_corrupt.drop(['country', 'score'], axis=1)\n",
        "y_corrupt = df_corrupt[['score']]"
      ],
      "metadata": {
        "id": "wuPKCsdBQ0WX"
      },
      "execution_count": 27,
      "outputs": []
    },
    {
      "cell_type": "code",
      "source": [
        "X_corrupt.shape[0]==y_corrupt.shape[0]"
      ],
      "metadata": {
        "colab": {
          "base_uri": "https://localhost:8080/"
        },
        "id": "2agJquRmRRlZ",
        "outputId": "0730c5bd-c0eb-4d3a-dd9a-6b9cf867a2a3"
      },
      "execution_count": 28,
      "outputs": [
        {
          "output_type": "execute_result",
          "data": {
            "text/plain": [
              "True"
            ]
          },
          "metadata": {},
          "execution_count": 28
        }
      ]
    },
    {
      "cell_type": "code",
      "source": [
        "X_train_c, X_test_c, y_train_c, y_test_c = train_test_split(X_corrupt, y_corrupt, test_size=0.3, random_state=42)"
      ],
      "metadata": {
        "id": "XJmHYKxBRX0g"
      },
      "execution_count": 29,
      "outputs": []
    },
    {
      "cell_type": "code",
      "source": [
        "# Manera pro\n",
        "estimadores = {\n",
        "    'SVR' : SVR(gamma='auto', C=1.0, epsilon=0.1),\n",
        "    'RANSAC' : RANSACRegressor(),\n",
        "    'HUBER' : HuberRegressor(epsilon=1.35)\n",
        "}"
      ],
      "metadata": {
        "id": "AlRsKp9SRqZ7"
      },
      "execution_count": 30,
      "outputs": []
    },
    {
      "cell_type": "code",
      "source": [
        "import warnings\n",
        "warnings.simplefilter(\"ignore\") # salen warings pesados que ensucia la terminal xD\n",
        "for name, estimador in estimadores.items():\n",
        "  estimador.fit(X_train_c, y_train_c)\n",
        "  predictions = estimador.predict(X_test_c)\n",
        "  print('='*64)\n",
        "  print(name)\n",
        "  print(\"MSE: \", mean_squared_error(y_test_c, predictions))"
      ],
      "metadata": {
        "colab": {
          "base_uri": "https://localhost:8080/"
        },
        "id": "5bP6HDT6Senz",
        "outputId": "b452de0a-20d1-463d-9b92-468d8a730ed6"
      },
      "execution_count": 31,
      "outputs": [
        {
          "output_type": "stream",
          "name": "stdout",
          "text": [
            "================================================================\n",
            "SVR\n",
            "MSE:  0.07455771301888525\n",
            "================================================================\n",
            "RANSAC\n",
            "MSE:  1.2756388196785554e-19\n",
            "================================================================\n",
            "HUBER\n",
            "MSE:  8.300263477689705e-07\n"
          ]
        }
      ]
    },
    {
      "cell_type": "markdown",
      "source": [
        "## Métodos de ensamble aplicados a clasificación\n",
        "---"
      ],
      "metadata": {
        "id": "TQV6LebbTtac"
      }
    },
    {
      "cell_type": "code",
      "source": [
        "from sklearn.neighbors import KNeighborsClassifier\n",
        "from sklearn.ensemble import BaggingClassifier\n",
        "from sklearn.metrics import accuracy_score"
      ],
      "metadata": {
        "id": "lYPxO57cTB59"
      },
      "execution_count": 32,
      "outputs": []
    },
    {
      "cell_type": "code",
      "source": [
        "dt_target_kokkoro.describe() # son datos binarios no sirve ver el mean y std xD"
      ],
      "metadata": {
        "colab": {
          "base_uri": "https://localhost:8080/"
        },
        "id": "wGwUIpd6CpKz",
        "outputId": "3fee0e99-36cd-4e32-d3df-878d4f799a8c"
      },
      "execution_count": 33,
      "outputs": [
        {
          "output_type": "execute_result",
          "data": {
            "text/plain": [
              "count    1025.000000\n",
              "mean        0.513171\n",
              "std         0.500070\n",
              "min         0.000000\n",
              "25%         0.000000\n",
              "50%         1.000000\n",
              "75%         1.000000\n",
              "max         1.000000\n",
              "Name: target, dtype: float64"
            ]
          },
          "metadata": {},
          "execution_count": 33
        }
      ]
    },
    {
      "cell_type": "code",
      "source": [
        "X_kokkoro = dt_features_kokkoro\n",
        "y_kokkoro = dt_target_kokkoro\n",
        "\n",
        "X_train_k, X_test_k, y_train_k, y_test_k = train_test_split(X_kokkoro, y_kokkoro, test_size=0.35)"
      ],
      "metadata": {
        "id": "Q82pHA45C9wS"
      },
      "execution_count": 34,
      "outputs": []
    },
    {
      "cell_type": "markdown",
      "source": [
        "### Bagging"
      ],
      "metadata": {
        "id": "tHHQGU1iETuC"
      }
    },
    {
      "cell_type": "code",
      "source": [
        "knn_class = KNeighborsClassifier().fit(X_train_k, y_train_k)\n",
        "knn_pred = knn_class.predict(X_test_k)\n",
        "print('='*64)\n",
        "print(accuracy_score(knn_pred, y_test_k))\n",
        "\n",
        "bag_class = BaggingClassifier(base_estimator=KNeighborsClassifier(), n_estimators=50).fit(X_train_k, y_train_k)\n",
        "bag_pred = bag_class.predict(X_test_k)\n",
        "print('='*64)\n",
        "print(accuracy_score(bag_pred, y_test_k))"
      ],
      "metadata": {
        "id": "6z8xGkC8ETDA",
        "colab": {
          "base_uri": "https://localhost:8080/"
        },
        "outputId": "a56260b9-3528-4c7f-81a3-1f8593448ff0"
      },
      "execution_count": 35,
      "outputs": [
        {
          "output_type": "stream",
          "name": "stdout",
          "text": [
            "================================================================\n",
            "0.8356545961002786\n",
            "================================================================\n",
            "0.8384401114206128\n"
          ]
        }
      ]
    },
    {
      "cell_type": "markdown",
      "source": [
        "### Boosting"
      ],
      "metadata": {
        "id": "SIzCg9Qcjw7N"
      }
    },
    {
      "cell_type": "code",
      "source": [],
      "metadata": {
        "id": "KWj1WK_sD_Do"
      },
      "execution_count": 35,
      "outputs": []
    }
  ]
}